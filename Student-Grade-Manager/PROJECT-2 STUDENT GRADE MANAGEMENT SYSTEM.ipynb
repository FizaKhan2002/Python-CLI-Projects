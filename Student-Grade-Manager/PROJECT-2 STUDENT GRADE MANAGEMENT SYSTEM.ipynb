{
 "cells": [
  {
   "cell_type": "code",
   "execution_count": 1,
   "id": "b0adfc88-f7dd-4b5c-845f-04d9465a8eea",
   "metadata": {},
   "outputs": [],
   "source": [
    "class sgms:\n",
    "    studentdata={}\n",
    "    #def __init__(self,name,grade):\n",
    "       # self.name=name\n",
    "        #self.grade=grade\n",
    "    def add(self):\n",
    "        self.name=input(\"enter student name:\")\n",
    "        self.grade=[int(i) for i in input(\"enter student grade\").split(',')]\n",
    "        sgms.studentdata[self.name]=self.grade\n",
    "        #print(sgms.studentdata)\n",
    "        return sgms.studentdata\n",
    "      #not needed now   #self.total_marks=reduce(lambda x,y:x+y,self.grade)\n",
    "        #return self.total_marks\n",
    "    def update(self,existing_name,new_grade):\n",
    "        if existing_name in sgms.studentdata:\n",
    "            sgms.studentdata[self.name]=[int(i) for i in new_grade.split(',')]\n",
    "            print(\"updated student record\",sgms.studentdata)\n",
    "        else:\n",
    "            print(f\"student record not found for {existing_name}\")\n",
    "        #print(sgms.studentdata)\n",
    "        return sgms.studentdata\n",
    "    def delete(self,name):\n",
    "        if name in sgms.studentdata:\n",
    "           print(\"deleted student name\", sgms.studentdata[name])\n",
    "           del sgms.studentdata[name]       \n",
    "        else:\n",
    "            print(f\"student record not found for {name}\")\n",
    "        #print(sgms.studentdata)\n",
    "        return sgms.studentdata\n",
    "    def show_result():\n",
    "        print(sgms.studentdata)"
   ]
  },
  {
   "cell_type": "code",
   "execution_count": 3,
   "id": "3468ee67-bde0-4539-9c52-82f17498ecbb",
   "metadata": {},
   "outputs": [
    {
     "name": "stdin",
     "output_type": "stream",
     "text": [
      "enter student name: fiza\n",
      "enter student grade 100,100\n"
     ]
    },
    {
     "data": {
      "text/plain": [
       "{'fiza': [100, 100]}"
      ]
     },
     "execution_count": 3,
     "metadata": {},
     "output_type": "execute_result"
    }
   ],
   "source": [
    "student=sgms()\n",
    "student.add()"
   ]
  },
  {
   "cell_type": "code",
   "execution_count": 5,
   "id": "21bd4b7b-3a5d-4420-8dd5-51916e00aeec",
   "metadata": {},
   "outputs": [
    {
     "name": "stdout",
     "output_type": "stream",
     "text": [
      "{'fiza': [100, 100]}\n"
     ]
    }
   ],
   "source": [
    "sgms.show_result()"
   ]
  },
  {
   "cell_type": "code",
   "execution_count": 9,
   "id": "b6fe0a75-7dd6-434d-89f4-12df4f2d60f2",
   "metadata": {},
   "outputs": [
    {
     "name": "stdout",
     "output_type": "stream",
     "text": [
      "updated student record {'fiza': [100, 100, 100]}\n"
     ]
    },
    {
     "data": {
      "text/plain": [
       "{'fiza': [100, 100, 100]}"
      ]
     },
     "execution_count": 9,
     "metadata": {},
     "output_type": "execute_result"
    }
   ],
   "source": [
    "student.update(\"fiza\",\"100,100,100\")"
   ]
  },
  {
   "cell_type": "code",
   "execution_count": 11,
   "id": "b120a503-762e-4fec-940f-cc95d52a180b",
   "metadata": {},
   "outputs": [
    {
     "name": "stdout",
     "output_type": "stream",
     "text": [
      "{'fiza': [100, 100, 100]}\n"
     ]
    }
   ],
   "source": [
    "sgms.show_result()"
   ]
  },
  {
   "cell_type": "code",
   "execution_count": null,
   "id": "e2f5555a-00e1-4285-b998-a45e113e7017",
   "metadata": {},
   "outputs": [],
   "source": []
  }
 ],
 "metadata": {
  "kernelspec": {
   "display_name": "Python 3 (ipykernel)",
   "language": "python",
   "name": "python3"
  },
  "language_info": {
   "codemirror_mode": {
    "name": "ipython",
    "version": 3
   },
   "file_extension": ".py",
   "mimetype": "text/x-python",
   "name": "python",
   "nbconvert_exporter": "python",
   "pygments_lexer": "ipython3",
   "version": "3.12.4"
  }
 },
 "nbformat": 4,
 "nbformat_minor": 5
}
