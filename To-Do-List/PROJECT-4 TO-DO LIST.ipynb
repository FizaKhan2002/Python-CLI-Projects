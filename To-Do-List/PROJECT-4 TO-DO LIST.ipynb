{
 "cells": [
  {
   "cell_type": "code",
   "execution_count": 9,
   "id": "4d9299bc-565c-4e4a-ba6f-3ac917c8b5e6",
   "metadata": {},
   "outputs": [],
   "source": [
    "class TO_DO_LIST:\n",
    "    to_do=[]\n",
    "    def __init__(self):\n",
    "        self.completed_task=[]\n",
    "        \n",
    "    def add_task(self):\n",
    "        make_list=input(\"let's make to  do list\\nAre you ready (yes/no?)\").strip().lower()\n",
    "        while make_list==\"yes\":\n",
    "             task=input(\"add your list task or type DONE\").strip()\n",
    "             if task.upper()==\"DONE\":\n",
    "                break\n",
    "             elif task:     #string is not empty ,empty string represents False in python\n",
    "                 TO_DO_LIST.to_do.append(task)\n",
    "             else:\n",
    "                 print(\"task cannot be empty\")\n",
    "        else :\n",
    "            print(\"ok you dont want to make a todo list\")    \n",
    "            \n",
    "    def display(self):\n",
    "        print(\"your to-do list->\")\n",
    "        for task in TO_DO_LIST.to_do:\n",
    "            print('-',task)\n",
    "            \n",
    "    def check_list(self):\n",
    "        for task in TO_DO_LIST.to_do:\n",
    "            tick=input(f\"have you done {task}\").lower()\n",
    "            if tick==\"yes\":\n",
    "                self.completed_task.append(task)\n",
    "            elif tick==\"no\":\n",
    "                print(f\"remember to {task}\")\n",
    "        for task in self.completed_task:\n",
    "            TO_DO_LIST.to_do.remove(task) \n",
    "                  "
   ]
  },
  {
   "cell_type": "code",
   "execution_count": 212,
   "id": "aa04bd01-0e05-4af7-b59b-e868e592e2ef",
   "metadata": {},
   "outputs": [],
   "source": [
    "my_list=TO_DO_LIST()"
   ]
  },
  {
   "cell_type": "code",
   "execution_count": 214,
   "id": "7e54ac30-31a6-4767-b73a-20a1d1f35943",
   "metadata": {},
   "outputs": [
    {
     "name": "stdin",
     "output_type": "stream",
     "text": [
      "let's make to  do list\n",
      "Are you ready (yes/no?) yes\n",
      "add your list task or type DONE go shopping\n",
      "add your list task or type DONE walking\n",
      "add your list task or type DONE cooking\n",
      "add your list task or type DONE cleaning\n",
      "add your list task or type DONE bathing\n",
      "add your list task or type DONE eating\n",
      "add your list task or type DONE done\n"
     ]
    }
   ],
   "source": [
    "my_list.add_task()"
   ]
  },
  {
   "cell_type": "code",
   "execution_count": 220,
   "id": "c78bb645-906e-4d4b-b076-ccf92b7540e0",
   "metadata": {},
   "outputs": [
    {
     "name": "stdout",
     "output_type": "stream",
     "text": [
      "- cooking\n",
      "- bathing\n"
     ]
    }
   ],
   "source": [
    "my_list.display()"
   ]
  },
  {
   "cell_type": "code",
   "execution_count": 218,
   "id": "59b0d220-d105-404e-bc15-30e345d1b011",
   "metadata": {},
   "outputs": [
    {
     "name": "stdin",
     "output_type": "stream",
     "text": [
      "have you done go shopping yes\n",
      "have you done walking yes\n",
      "have you done cooking no\n"
     ]
    },
    {
     "name": "stdout",
     "output_type": "stream",
     "text": [
      "remember to cooking\n"
     ]
    },
    {
     "name": "stdin",
     "output_type": "stream",
     "text": [
      "have you done cleaning yes\n",
      "have you done bathing no\n"
     ]
    },
    {
     "name": "stdout",
     "output_type": "stream",
     "text": [
      "remember to bathing\n"
     ]
    },
    {
     "name": "stdin",
     "output_type": "stream",
     "text": [
      "have you done eating yes\n"
     ]
    }
   ],
   "source": [
    "my_list.check_list()"
   ]
  },
  {
   "cell_type": "code",
   "execution_count": null,
   "id": "3ec095f1-6cfc-40bb-858c-4cf273a1529c",
   "metadata": {},
   "outputs": [],
   "source": []
  }
 ],
 "metadata": {
  "kernelspec": {
   "display_name": "Python 3 (ipykernel)",
   "language": "python",
   "name": "python3"
  },
  "language_info": {
   "codemirror_mode": {
    "name": "ipython",
    "version": 3
   },
   "file_extension": ".py",
   "mimetype": "text/x-python",
   "name": "python",
   "nbconvert_exporter": "python",
   "pygments_lexer": "ipython3",
   "version": "3.12.4"
  }
 },
 "nbformat": 4,
 "nbformat_minor": 5
}
